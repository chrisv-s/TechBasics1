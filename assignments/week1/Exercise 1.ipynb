{
 "cells": [
  {
   "cell_type": "code",
   "id": "initial_id",
   "metadata": {
    "collapsed": true,
    "ExecuteTime": {
     "end_time": "2025-04-11T11:24:17.859239Z",
     "start_time": "2025-04-11T11:24:17.855898Z"
    }
   },
   "source": [
    "print(r'''  c,_.--.,y\n",
    "            7 a.a(\n",
    "           (   ,_Y)\n",
    "           :  '---;\n",
    "       ___.'\\.  - (\n",
    "     .''' + r\"\"\"S,._'--'_2..,_\n",
    "     |    ':::::=:::::  \\\n",
    "     .     f== ;-,---.' T\n",
    "      Y.   r,-,_/_      |\n",
    "      |:\\___.---' '---./\n",
    "      |'`             )\n",
    "       \\             ,\n",
    "       ':;,.________.;L\n",
    "       /  '---------' |\n",
    "       |              \\\n",
    "       L---'-,--.-'--,-'\n",
    "        T    /   \\   Y\n",
    "        |   Y    ,   |\n",
    "        |   \\    (   |\n",
    "        (   )     \\,_L\n",
    "        7-./      )  `,\n",
    "       /  _(      '._  \\\n",
    "     '---'           '--'\"\"\")\n"
   ],
   "outputs": [
    {
     "name": "stdout",
     "output_type": "stream",
     "text": [
      "  c,_.--.,y\n",
      "            7 a.a(\n",
      "           (   ,_Y)\n",
      "           :  '---;\n",
      "       ___.'\\.  - (\n",
      "     .S,._'--'_2..,_\n",
      "     |    ':::::=:::::  \\\n",
      "     .     f== ;-,---.' T\n",
      "      Y.   r,-,_/_      |\n",
      "      |:\\___.---' '---./\n",
      "      |'`             )\n",
      "       \\             ,\n",
      "       ':;,.________.;L\n",
      "       /  '---------' |\n",
      "       |              \\\n",
      "       L---'-,--.-'--,-'\n",
      "        T    /   \\   Y\n",
      "        |   Y    ,   |\n",
      "        |   \\    (   |\n",
      "        (   )     \\,_L\n",
      "        7-./      )  `,\n",
      "       /  _(      '._  \\\n",
      "     '---'           '--'\n"
     ]
    }
   ],
   "execution_count": 2
  }
 ],
 "metadata": {
  "kernelspec": {
   "display_name": "Python 3",
   "language": "python",
   "name": "python3"
  },
  "language_info": {
   "codemirror_mode": {
    "name": "ipython",
    "version": 2
   },
   "file_extension": ".py",
   "mimetype": "text/x-python",
   "name": "python",
   "nbconvert_exporter": "python",
   "pygments_lexer": "ipython2",
   "version": "2.7.6"
  }
 },
 "nbformat": 4,
 "nbformat_minor": 5
}
