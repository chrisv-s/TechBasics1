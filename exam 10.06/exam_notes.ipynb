{
 "cells": [
  {
   "metadata": {},
   "cell_type": "markdown",
   "source": "",
   "id": "3946f278f24ebbb2"
  },
  {
   "metadata": {},
   "cell_type": "markdown",
   "source": [
    "**Variables and Control Flow**\n",
    "\n",
    "Python Code --> Interpreter [line by line] --> Low-level programming language\n",
    "\n",
    "Interpreted Languages (Python, JavaScript, PHP)\n",
    "- flexible, smaller program size but slower speed\n",
    "\n",
    " Compiled Languages (C, C++, Rust)\n",
    " - faster but platform dependent\n",
    "\n",
    "Statement: performs actions (e.g. print() )\n",
    "Expression (123) --> Evaluation (1 + 2 + 3) --> Value (n == 3)\n",
    "Variables (assigning value: x =1 )\n",
    "\n",
    "Data Types: string, integer, float, boolean, list/tuple/range, set/dict, NoneType\n",
    "\n",
    "Different Types of Operators: Arithmetic, Assignment, Comparison, Logical (and, or, not), Identity\n",
    "\n",
    "**Loops & Iterations:**\n",
    "While Loop: Execute a set of statements as long as a condition is true.\n",
    "\n",
    "For Loop: To iterate over a sequence (either a list, tuple, dictionary, set or string)\n",
    "\n",
    "String Index can be accessed by using Brackets []\n",
    "Substring & Slicing: sub_string[begin : end]\n",
    "\n",
    "List: sequence of (homogeneous) items\n",
    "list methods: append(), clear(), copy(), count(), extend(), index(), insert(), pop(), remove(), reverse(), sort()\n",
    "\n",
    "**Functions and Local/Global Variables**\n",
    "\n",
    "Functions: is a block of code which only runs when it is called\n",
    "- reusuable, modularization, readability\n",
    "- uses arguments & parameters\n",
    "- uses Return\n",
    "\n",
    "Global Variable: variable defined outside of any function (! naming convention for CONSTANTS)\n",
    "\n",
    "Local Variables: requires parameter passing\n",
    "\n",
    "Recursion: when a function calls itself...\n",
    "def recursion(x):\n",
    "    if x <= 0:\n",
    "        return x;\n",
    "    recursion (x-1)\n",
    "\n",
    "- `\\n` for new line in your string\n",
    "- `\\t` for adding a tab in your string\n",
    "- `\\\\` you will need to escape your backslash if you want to print one\n"
   ],
   "id": "77654747ed4686d7"
  },
  {
   "metadata": {},
   "cell_type": "code",
   "outputs": [],
   "execution_count": null,
   "source": "",
   "id": "eeb07e02b2ed5c0f"
  }
 ],
 "metadata": {
  "kernelspec": {
   "display_name": "Python 3",
   "language": "python",
   "name": "python3"
  },
  "language_info": {
   "codemirror_mode": {
    "name": "ipython",
    "version": 2
   },
   "file_extension": ".py",
   "mimetype": "text/x-python",
   "name": "python",
   "nbconvert_exporter": "python",
   "pygments_lexer": "ipython2",
   "version": "2.7.6"
  }
 },
 "nbformat": 4,
 "nbformat_minor": 5
}
